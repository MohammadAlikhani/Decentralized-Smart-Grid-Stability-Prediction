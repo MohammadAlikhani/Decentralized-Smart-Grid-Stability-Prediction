{
 "cells": [
  {
   "cell_type": "markdown",
   "metadata": {
    "id": "XibOY8UhI8ug"
   },
   "source": [
    "# SVM MODEL Complete"
   ]
  },
  {
   "cell_type": "code",
   "execution_count": null,
   "metadata": {
    "id": "vZ73U3GFNE17"
   },
   "outputs": [
    {
     "data": {
      "text/html": [
       "<div>\n",
       "<style scoped>\n",
       "    .dataframe tbody tr th:only-of-type {\n",
       "        vertical-align: middle;\n",
       "    }\n",
       "\n",
       "    .dataframe tbody tr th {\n",
       "        vertical-align: top;\n",
       "    }\n",
       "\n",
       "    .dataframe thead th {\n",
       "        text-align: right;\n",
       "    }\n",
       "</style>\n",
       "<table border=\"1\" class=\"dataframe\">\n",
       "  <thead>\n",
       "    <tr style=\"text-align: right;\">\n",
       "      <th></th>\n",
       "      <th>tau1</th>\n",
       "      <th>tau2</th>\n",
       "      <th>tau3</th>\n",
       "      <th>tau4</th>\n",
       "      <th>p1</th>\n",
       "      <th>p2</th>\n",
       "      <th>p3</th>\n",
       "      <th>p4</th>\n",
       "      <th>g1</th>\n",
       "      <th>g2</th>\n",
       "      <th>g3</th>\n",
       "      <th>g4</th>\n",
       "      <th>stab</th>\n",
       "      <th>stabf</th>\n",
       "    </tr>\n",
       "  </thead>\n",
       "  <tbody>\n",
       "    <tr>\n",
       "      <th>count</th>\n",
       "      <td>60000.000000</td>\n",
       "      <td>60000.000000</td>\n",
       "      <td>60000.000000</td>\n",
       "      <td>60000.000000</td>\n",
       "      <td>60000.000000</td>\n",
       "      <td>60000.000000</td>\n",
       "      <td>60000.000000</td>\n",
       "      <td>60000.000000</td>\n",
       "      <td>60000.000000</td>\n",
       "      <td>60000.000000</td>\n",
       "      <td>60000.000000</td>\n",
       "      <td>60000.000000</td>\n",
       "      <td>60000.000000</td>\n",
       "      <td>60000.000000</td>\n",
       "    </tr>\n",
       "    <tr>\n",
       "      <th>mean</th>\n",
       "      <td>5.250000</td>\n",
       "      <td>5.250001</td>\n",
       "      <td>5.250001</td>\n",
       "      <td>5.250001</td>\n",
       "      <td>3.750000</td>\n",
       "      <td>-1.250000</td>\n",
       "      <td>-1.250000</td>\n",
       "      <td>-1.250000</td>\n",
       "      <td>0.525000</td>\n",
       "      <td>0.525000</td>\n",
       "      <td>0.525000</td>\n",
       "      <td>0.525000</td>\n",
       "      <td>0.015731</td>\n",
       "      <td>0.362000</td>\n",
       "    </tr>\n",
       "    <tr>\n",
       "      <th>std</th>\n",
       "      <td>2.742434</td>\n",
       "      <td>2.742437</td>\n",
       "      <td>2.742437</td>\n",
       "      <td>2.742437</td>\n",
       "      <td>0.752129</td>\n",
       "      <td>0.433017</td>\n",
       "      <td>0.433017</td>\n",
       "      <td>0.433017</td>\n",
       "      <td>0.274244</td>\n",
       "      <td>0.274243</td>\n",
       "      <td>0.274243</td>\n",
       "      <td>0.274243</td>\n",
       "      <td>0.036917</td>\n",
       "      <td>0.480583</td>\n",
       "    </tr>\n",
       "    <tr>\n",
       "      <th>min</th>\n",
       "      <td>0.500793</td>\n",
       "      <td>0.500141</td>\n",
       "      <td>0.500141</td>\n",
       "      <td>0.500141</td>\n",
       "      <td>1.582590</td>\n",
       "      <td>-1.999945</td>\n",
       "      <td>-1.999945</td>\n",
       "      <td>-1.999945</td>\n",
       "      <td>0.050009</td>\n",
       "      <td>0.050028</td>\n",
       "      <td>0.050028</td>\n",
       "      <td>0.050028</td>\n",
       "      <td>-0.080760</td>\n",
       "      <td>0.000000</td>\n",
       "    </tr>\n",
       "    <tr>\n",
       "      <th>25%</th>\n",
       "      <td>2.874892</td>\n",
       "      <td>2.875011</td>\n",
       "      <td>2.875011</td>\n",
       "      <td>2.875011</td>\n",
       "      <td>3.218300</td>\n",
       "      <td>-1.624997</td>\n",
       "      <td>-1.624997</td>\n",
       "      <td>-1.624997</td>\n",
       "      <td>0.287521</td>\n",
       "      <td>0.287497</td>\n",
       "      <td>0.287497</td>\n",
       "      <td>0.287497</td>\n",
       "      <td>-0.015557</td>\n",
       "      <td>0.000000</td>\n",
       "    </tr>\n",
       "    <tr>\n",
       "      <th>50%</th>\n",
       "      <td>5.250004</td>\n",
       "      <td>5.249981</td>\n",
       "      <td>5.249981</td>\n",
       "      <td>5.249981</td>\n",
       "      <td>3.751025</td>\n",
       "      <td>-1.249996</td>\n",
       "      <td>-1.249996</td>\n",
       "      <td>-1.249996</td>\n",
       "      <td>0.525009</td>\n",
       "      <td>0.525007</td>\n",
       "      <td>0.525007</td>\n",
       "      <td>0.525007</td>\n",
       "      <td>0.017142</td>\n",
       "      <td>0.000000</td>\n",
       "    </tr>\n",
       "    <tr>\n",
       "      <th>75%</th>\n",
       "      <td>7.624690</td>\n",
       "      <td>7.624896</td>\n",
       "      <td>7.624896</td>\n",
       "      <td>7.624896</td>\n",
       "      <td>4.282420</td>\n",
       "      <td>-0.874993</td>\n",
       "      <td>-0.874993</td>\n",
       "      <td>-0.874993</td>\n",
       "      <td>0.762435</td>\n",
       "      <td>0.762490</td>\n",
       "      <td>0.762490</td>\n",
       "      <td>0.762490</td>\n",
       "      <td>0.044878</td>\n",
       "      <td>1.000000</td>\n",
       "    </tr>\n",
       "    <tr>\n",
       "      <th>max</th>\n",
       "      <td>9.999469</td>\n",
       "      <td>9.999837</td>\n",
       "      <td>9.999837</td>\n",
       "      <td>9.999837</td>\n",
       "      <td>5.864418</td>\n",
       "      <td>-0.500025</td>\n",
       "      <td>-0.500025</td>\n",
       "      <td>-0.500025</td>\n",
       "      <td>0.999937</td>\n",
       "      <td>0.999982</td>\n",
       "      <td>0.999982</td>\n",
       "      <td>0.999982</td>\n",
       "      <td>0.109403</td>\n",
       "      <td>1.000000</td>\n",
       "    </tr>\n",
       "  </tbody>\n",
       "</table>\n",
       "</div>"
      ],
      "text/plain": [
       "               tau1          tau2          tau3          tau4            p1  \\\n",
       "count  60000.000000  60000.000000  60000.000000  60000.000000  60000.000000   \n",
       "mean       5.250000      5.250001      5.250001      5.250001      3.750000   \n",
       "std        2.742434      2.742437      2.742437      2.742437      0.752129   \n",
       "min        0.500793      0.500141      0.500141      0.500141      1.582590   \n",
       "25%        2.874892      2.875011      2.875011      2.875011      3.218300   \n",
       "50%        5.250004      5.249981      5.249981      5.249981      3.751025   \n",
       "75%        7.624690      7.624896      7.624896      7.624896      4.282420   \n",
       "max        9.999469      9.999837      9.999837      9.999837      5.864418   \n",
       "\n",
       "                 p2            p3            p4            g1            g2  \\\n",
       "count  60000.000000  60000.000000  60000.000000  60000.000000  60000.000000   \n",
       "mean      -1.250000     -1.250000     -1.250000      0.525000      0.525000   \n",
       "std        0.433017      0.433017      0.433017      0.274244      0.274243   \n",
       "min       -1.999945     -1.999945     -1.999945      0.050009      0.050028   \n",
       "25%       -1.624997     -1.624997     -1.624997      0.287521      0.287497   \n",
       "50%       -1.249996     -1.249996     -1.249996      0.525009      0.525007   \n",
       "75%       -0.874993     -0.874993     -0.874993      0.762435      0.762490   \n",
       "max       -0.500025     -0.500025     -0.500025      0.999937      0.999982   \n",
       "\n",
       "                 g3            g4          stab         stabf  \n",
       "count  60000.000000  60000.000000  60000.000000  60000.000000  \n",
       "mean       0.525000      0.525000      0.015731      0.362000  \n",
       "std        0.274243      0.274243      0.036917      0.480583  \n",
       "min        0.050028      0.050028     -0.080760      0.000000  \n",
       "25%        0.287497      0.287497     -0.015557      0.000000  \n",
       "50%        0.525007      0.525007      0.017142      0.000000  \n",
       "75%        0.762490      0.762490      0.044878      1.000000  \n",
       "max        0.999982      0.999982      0.109403      1.000000  "
      ]
     },
     "execution_count": 27,
     "metadata": {},
     "output_type": "execute_result"
    }
   ],
   "source": [
    "import numpy as np\n",
    "import matplotlib.pyplot as plt\n",
    "import seaborn as sns\n",
    "import pandas as pd\n",
    "import math\n",
    "from sklearn.model_selection import cross_val_score, StratifiedKFold\n",
    "from sklearn.svm import SVC\n",
    "from sklearn.model_selection import train_test_split\n",
    "from sklearn.tree import DecisionTreeRegressor, plot_tree\n",
    "from sklearn.ensemble import BaggingRegressor, RandomForestRegressor\n",
    "from sklearn.model_selection import train_test_split, GridSearchCV\n",
    "from sklearn.metrics import mean_squared_error,accuracy_score, precision_score, recall_score, classification_report\n",
    "\n",
    "from xgboost import XGBClassifier, XGBRegressor\n",
    "\n",
    "# Importing the dataset  \n",
    "dff = pd.read_csv('smart_grid_stability_augmented.csv')\n",
    "df = dff.copy()\n",
    "map1 = {'unstable': 0, 'stable': 1}\n",
    "df['stabf'] = df['stabf'].replace(map1)\n",
    "data = df.sample(frac=1)\n",
    "#df = df.drop('stab', axis=1)\n",
    "df.head()\n",
    "df.isnull().sum()   # To make sure there are no null values\n",
    "df.describe()        # summary of the data"
   ]
  },
  {
   "cell_type": "markdown",
   "metadata": {
    "id": "vkPWNLpfR4oW"
   },
   "source": [
    "c) Split the dataset into a training set and a test set.\n"
   ]
  },
  {
   "cell_type": "code",
   "execution_count": 11,
   "metadata": {
    "id": "4R51fuG0R60D"
   },
   "outputs": [
    {
     "name": "stdout",
     "output_type": "stream",
     "text": [
      "X_train: (12000, 12), y_train: (12000,)\n",
      "X_test:  (3000, 12),  y_test:  (3000,)\n"
     ]
    }
   ],
   "source": [
    "# Training and Testing for SVM\n",
    "# Features and target\n",
    "df = df.iloc[:-45000].reset_index(drop=True)\n",
    "X = df.drop(columns=['stabf','stab'], errors='ignore')\n",
    "y = df['stabf']\n",
    "# Split into training set (80%) and test set (20%)\n",
    "X_train, X_test, y_train, y_test = train_test_split(\n",
    "    X,\n",
    "    y,\n",
    "    test_size=0.2,       # 30% for testing\n",
    "    random_state=42,     # for reproducibility\n",
    "    stratify=y           # preserve class proportions\n",
    ")\n",
    "\n",
    "# Optional: view the shapes\n",
    "print(f\"X_train: {X_train.shape}, y_train: {y_train.shape}\")\n",
    "print(f\"X_test:  {X_test.shape},  y_test:  {y_test.shape}\")"
   ]
  },
  {
   "cell_type": "code",
   "execution_count": 12,
   "metadata": {
    "id": "7j0UlYgJLavW"
   },
   "outputs": [
    {
     "name": "stdout",
     "output_type": "stream",
     "text": [
      "Best C = 0.1, validation CV error = 0.186\n",
      "Test accuracy (held-out): 0.821\n",
      "Test Accuracy : 0.821\n",
      "Test Precision: 0.778\n",
      "Test Recall   : 0.707\n"
     ]
    }
   ],
   "source": [
    "# Stratified 5-fold CV splitter\n",
    "cv = StratifiedKFold(n_splits=5, shuffle=True, random_state=42)\n",
    "\n",
    "#(d) Linear SVM: vary C\n",
    "Cs = [0.1,1,10]\n",
    "errors_linear = []\n",
    "for C in Cs:\n",
    "    svc = SVC(kernel='linear', C=C)\n",
    "    scores = cross_val_score(svc, X_train, y_train, cv=cv, scoring='accuracy')\n",
    "    errors_linear.append(1 - scores.mean())\n",
    "\n",
    "# 4) Pick best C and evaluate on TEST set\n",
    "best_C = Cs[int(np.argmin(errors_linear))]\n",
    "best_svc = SVC(kernel='linear', C=best_C).fit(X_train, y_train)\n",
    "y_test_pred = best_svc.predict(X_test)\n",
    "# Calculate accuracy\n",
    "test_acc = best_svc.score(X_test, y_test)\n",
    "# Compute metrics\n",
    "acc  = accuracy_score(y_test, y_test_pred)\n",
    "prec = precision_score(y_test, y_test_pred)   # for the “stable” class=1 by default\n",
    "rec  = recall_score(y_test, y_test_pred)\n",
    "\n",
    "print(f\"Best C = {best_C}, validation CV error = {min(errors_linear):.3f}\")\n",
    "print(f\"Test accuracy (held-out): {test_acc:.3f}\")\n",
    "print(f\"Test Accuracy : {acc:.3f}\")\n",
    "print(f\"Test Precision: {prec:.3f}\")\n",
    "print(f\"Test Recall   : {rec:.3f}\")"
   ]
  },
  {
   "cell_type": "code",
   "execution_count": 13,
   "metadata": {},
   "outputs": [
    {
     "data": {
      "image/png": "[encoded data removed]",
      "text/plain": [
       "<Figure size 432x288 with 1 Axes>"
      ]
     },
     "metadata": {
      "needs_background": "light"
     },
     "output_type": "display_data"
    }
   ],
   "source": [
    "# Plot Linear CV error vs C\n",
    "plt.figure(figsize=(6,4))\n",
    "plt.plot(np.log10(Cs), errors_linear, marker='o')\n",
    "plt.xticks(np.log10(Cs), Cs)\n",
    "plt.xlabel('C (log scale)')\n",
    "plt.ylabel('CV error (1–accuracy)')\n",
    "plt.title('Linear SVM: CV Error vs C')\n",
    "plt.grid(True)\n",
    "plt.tight_layout()"
   ]
  },
  {
   "cell_type": "code",
   "execution_count": 5,
   "metadata": {
    "id": "aunZjDTMLsvu"
   },
   "outputs": [
    {
     "name": "stdout",
     "output_type": "stream",
     "text": [
      "Best hyperparameters → C = 10, γ = 0.1\n",
      "RBF‐SVM Test Accuracy : 0.942\n",
      "RBF‐SVM Test Precision: 0.916\n",
      "RBF‐SVM Test Recall   : 0.924\n"
     ]
    }
   ],
   "source": [
    "#(e1) RBF SVM: vary C and gamma \n",
    "gammas = [ 0.1, 1, 10]\n",
    "errors_rbf = np.zeros((len(gammas), len(Cs)))\n",
    "for i, γ in enumerate(gammas):\n",
    "    for j, C in enumerate(Cs):\n",
    "        svc = SVC(kernel='rbf', C=C, gamma=γ)\n",
    "        acc = cross_val_score(svc, X_train, y_train, cv=cv, scoring='accuracy').mean()\n",
    "        errors_rbf[i, j] = 1 - acc\n",
    "\n",
    "best_idx = np.unravel_index(np.argmin(errors_rbf), errors_rbf.shape)\n",
    "best_gamma = gammas[best_idx[0]]\n",
    "best_C_rbf = Cs[best_idx[1]]\n",
    "print(f\"Best hyperparameters → C = {best_C_rbf}, γ = {best_gamma}\")\n",
    "\n",
    "# 2) Retrain on full training set with those best hyperparameters\n",
    "best_rbf = SVC(kernel='rbf', C=best_C_rbf, gamma=best_gamma, random_state=42)\n",
    "best_rbf.fit(X_train, y_train)\n",
    "\n",
    "# 3) Predict on the untouched test set\n",
    "y_test_pred_rbf = best_rbf.predict(X_test)\n",
    "\n",
    "# 4) Compute metrics\n",
    "acc_rbf  = accuracy_score(y_test, y_test_pred_rbf)\n",
    "prec_rbf = precision_score(y_test, y_test_pred_rbf)   # for positive class=1\n",
    "rec_rbf  = recall_score(y_test, y_test_pred_rbf)\n",
    "\n",
    "print(f\"RBF‐SVM Test Accuracy : {acc_rbf:.3f}\")\n",
    "print(f\"RBF‐SVM Test Precision: {prec_rbf:.3f}\")\n",
    "print(f\"RBF‐SVM Test Recall   : {rec_rbf:.3f}\")"
   ]
  },
  {
   "cell_type": "code",
   "execution_count": 6,
   "metadata": {},
   "outputs": [
    {
     "data": {
      "image/png": "[encoded data removed]",
      "text/plain": [
       "<Figure size 432x288 with 1 Axes>"
      ]
     },
     "metadata": {
      "needs_background": "light"
     },
     "output_type": "display_data"
    }
   ],
   "source": [
    "# 2) RBF: error vs log10(C) for each gamma\n",
    "plt.figure(figsize=(6,4))\n",
    "for i, γ in enumerate(gammas):\n",
    "    plt.plot(np.log10(Cs), errors_rbf[i], marker='o', label=f'γ={γ}')\n",
    "plt.xticks(np.log10(Cs), Cs)\n",
    "plt.xlabel('C (log scale)')\n",
    "plt.ylabel('CV error')\n",
    "plt.title('RBF SVM: CV Error vs C')\n",
    "plt.legend(title='gamma')\n",
    "plt.grid(True)\n",
    "plt.tight_layout()\n"
   ]
  }
 ],
 "metadata": {
  "colab": {
   "authorship_tag": "ABX9TyMEa6RQMbmXcYH5O+2X775B",
   "provenance": []
  },
  "kernelspec": {
   "display_name": "base",
   "language": "python",
   "name": "python3"
  },
  "language_info": {
   "codemirror_mode": {
    "name": "ipython",
    "version": 3
   },
   "file_extension": ".py",
   "mimetype": "text/x-python",
   "name": "python",
   "nbconvert_exporter": "python",
   "pygments_lexer": "ipython3",
   "version": "3.9.7"
  }
 },
 "nbformat": 4,
 "nbformat_minor": 0
}
